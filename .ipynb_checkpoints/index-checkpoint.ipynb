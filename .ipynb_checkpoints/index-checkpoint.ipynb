{
 "cells": [
  {
   "cell_type": "markdown",
   "metadata": {},
   "source": [
    "# Basic Statistics"
   ]
  },
  {
   "cell_type": "markdown",
   "metadata": {},
   "source": [
    "### SWBATS\n",
    "\n",
    "* Use Numpy and Pandas to compute summary statistics for measures of center and spread\n",
    "* Apply summary statistics like mean and standard deviation to transformed data and compare results.\n",
    "* Use graphical summaries (Histograms and Boxplots) to describe data spread and centre. \n",
    "* Describe the idea and rationale for inferential statistics."
   ]
  },
  {
   "cell_type": "markdown",
   "metadata": {},
   "source": [
    "First we need the necessary libraries"
   ]
  },
  {
   "cell_type": "code",
   "execution_count": 1,
   "metadata": {},
   "outputs": [],
   "source": [
    "import warnings\n",
    "warnings.filterwarnings(\"ignore\")\n",
    "\n",
    "import numpy as np \n",
    "import pandas as pd"
   ]
  },
  {
   "cell_type": "markdown",
   "metadata": {},
   "source": [
    "For this lab, we shall use a dataset covering temperature and weather values in Boulder city during the month of July 2017. The dataset has been taken from [National Oceanic and Atmospheric Administration's Climate website](https://www.climate.gov/). You can download other relevant climate related datsets [HERE](https://www.climate.gov/maps-data/datasets).\n",
    "\n",
    "The data is stored in a .csv file called boulder_weather.csv. The dataset has been cleaned up so you can focus more on statistics, rather than data wrangling techniques.\n",
    "\n",
    "Let's load this dataset into a pandas dataframe "
   ]
  },
  {
   "cell_type": "code",
   "execution_count": 2,
   "metadata": {},
   "outputs": [],
   "source": [
    "file = 'boulder_weather.csv'\n",
    "\n",
    "#Load the dataset into a dataframe \n",
    "weather = pd.read_csv(file)"
   ]
  },
  {
   "cell_type": "markdown",
   "metadata": {},
   "source": [
    "Take a look at the first 10 rows of the DataFrame."
   ]
  },
  {
   "cell_type": "code",
   "execution_count": 3,
   "metadata": {},
   "outputs": [
    {
     "data": {
      "text/html": [
       "<div>\n",
       "<style scoped>\n",
       "    .dataframe tbody tr th:only-of-type {\n",
       "        vertical-align: middle;\n",
       "    }\n",
       "\n",
       "    .dataframe tbody tr th {\n",
       "        vertical-align: top;\n",
       "    }\n",
       "\n",
       "    .dataframe thead th {\n",
       "        text-align: right;\n",
       "    }\n",
       "</style>\n",
       "<table border=\"1\" class=\"dataframe\">\n",
       "  <thead>\n",
       "    <tr style=\"text-align: right;\">\n",
       "      <th></th>\n",
       "      <th>STATION</th>\n",
       "      <th>NAME</th>\n",
       "      <th>DATE</th>\n",
       "      <th>PRCP</th>\n",
       "      <th>TMAX</th>\n",
       "      <th>TMIN</th>\n",
       "    </tr>\n",
       "  </thead>\n",
       "  <tbody>\n",
       "    <tr>\n",
       "      <th>0</th>\n",
       "      <td>USW00094075</td>\n",
       "      <td>BOULDER 14 W, CO US</td>\n",
       "      <td>2017-07-01</td>\n",
       "      <td>0.00</td>\n",
       "      <td>68.0</td>\n",
       "      <td>31.0</td>\n",
       "    </tr>\n",
       "    <tr>\n",
       "      <th>1</th>\n",
       "      <td>USW00094075</td>\n",
       "      <td>BOULDER 14 W, CO US</td>\n",
       "      <td>2017-07-02</td>\n",
       "      <td>0.00</td>\n",
       "      <td>73.0</td>\n",
       "      <td>35.0</td>\n",
       "    </tr>\n",
       "    <tr>\n",
       "      <th>2</th>\n",
       "      <td>USW00094075</td>\n",
       "      <td>BOULDER 14 W, CO US</td>\n",
       "      <td>2017-07-03</td>\n",
       "      <td>0.00</td>\n",
       "      <td>68.0</td>\n",
       "      <td>46.0</td>\n",
       "    </tr>\n",
       "    <tr>\n",
       "      <th>3</th>\n",
       "      <td>USW00094075</td>\n",
       "      <td>BOULDER 14 W, CO US</td>\n",
       "      <td>2017-07-04</td>\n",
       "      <td>0.05</td>\n",
       "      <td>68.0</td>\n",
       "      <td>43.0</td>\n",
       "    </tr>\n",
       "    <tr>\n",
       "      <th>4</th>\n",
       "      <td>USW00094075</td>\n",
       "      <td>BOULDER 14 W, CO US</td>\n",
       "      <td>2017-07-05</td>\n",
       "      <td>0.01</td>\n",
       "      <td>73.0</td>\n",
       "      <td>40.0</td>\n",
       "    </tr>\n",
       "    <tr>\n",
       "      <th>5</th>\n",
       "      <td>USW00094075</td>\n",
       "      <td>BOULDER 14 W, CO US</td>\n",
       "      <td>2017-07-06</td>\n",
       "      <td>0.00</td>\n",
       "      <td>76.0</td>\n",
       "      <td>48.0</td>\n",
       "    </tr>\n",
       "    <tr>\n",
       "      <th>6</th>\n",
       "      <td>USW00094075</td>\n",
       "      <td>BOULDER 14 W, CO US</td>\n",
       "      <td>2017-07-07</td>\n",
       "      <td>0.02</td>\n",
       "      <td>74.0</td>\n",
       "      <td>43.0</td>\n",
       "    </tr>\n",
       "    <tr>\n",
       "      <th>7</th>\n",
       "      <td>USW00094075</td>\n",
       "      <td>BOULDER 14 W, CO US</td>\n",
       "      <td>2017-07-08</td>\n",
       "      <td>0.00</td>\n",
       "      <td>65.0</td>\n",
       "      <td>44.0</td>\n",
       "    </tr>\n",
       "    <tr>\n",
       "      <th>8</th>\n",
       "      <td>USW00094075</td>\n",
       "      <td>BOULDER 14 W, CO US</td>\n",
       "      <td>2017-07-09</td>\n",
       "      <td>0.01</td>\n",
       "      <td>73.0</td>\n",
       "      <td>39.0</td>\n",
       "    </tr>\n",
       "    <tr>\n",
       "      <th>9</th>\n",
       "      <td>USW00094075</td>\n",
       "      <td>BOULDER 14 W, CO US</td>\n",
       "      <td>2017-07-10</td>\n",
       "      <td>0.01</td>\n",
       "      <td>75.0</td>\n",
       "      <td>44.0</td>\n",
       "    </tr>\n",
       "  </tbody>\n",
       "</table>\n",
       "</div>"
      ],
      "text/plain": [
       "       STATION                 NAME        DATE  PRCP  TMAX  TMIN\n",
       "0  USW00094075  BOULDER 14 W, CO US  2017-07-01  0.00  68.0  31.0\n",
       "1  USW00094075  BOULDER 14 W, CO US  2017-07-02  0.00  73.0  35.0\n",
       "2  USW00094075  BOULDER 14 W, CO US  2017-07-03  0.00  68.0  46.0\n",
       "3  USW00094075  BOULDER 14 W, CO US  2017-07-04  0.05  68.0  43.0\n",
       "4  USW00094075  BOULDER 14 W, CO US  2017-07-05  0.01  73.0  40.0\n",
       "5  USW00094075  BOULDER 14 W, CO US  2017-07-06  0.00  76.0  48.0\n",
       "6  USW00094075  BOULDER 14 W, CO US  2017-07-07  0.02  74.0  43.0\n",
       "7  USW00094075  BOULDER 14 W, CO US  2017-07-08  0.00  65.0  44.0\n",
       "8  USW00094075  BOULDER 14 W, CO US  2017-07-09  0.01  73.0  39.0\n",
       "9  USW00094075  BOULDER 14 W, CO US  2017-07-10  0.01  75.0  44.0"
      ]
     },
     "execution_count": 3,
     "metadata": {},
     "output_type": "execute_result"
    }
   ],
   "source": [
    "weather.head(10)"
   ]
  },
  {
   "cell_type": "markdown",
   "metadata": {},
   "source": [
    "Following is a description of columns you see in the dataset:\n",
    "\n",
    "* STATION: The unique identification code for each weather station\n",
    "* NAME: The location / name of the weather station\n",
    "* DATE: The date of the observation\n",
    "* PRCP: The precipitation (in inches)\n",
    "* TMAX: The daily maximum temperature (in Fahrenheit)\n",
    "* TMIN: The daily minimum temperature (in Fahrenheit)"
   ]
  },
  {
   "cell_type": "markdown",
   "metadata": {},
   "source": [
    "From above we can see that the data has been collected from a number of weather stations (the NAME column). Use python's `set()` method identify a list of included weather stations. "
   ]
  },
  {
   "cell_type": "code",
   "execution_count": 6,
   "metadata": {},
   "outputs": [
    {
     "data": {
      "text/plain": [
       "{'BOULDER 14 W, CO US',\n",
       " 'BOULDER, CO US',\n",
       " 'GROSS RESERVOIR, CO US',\n",
       " 'NIWOT, CO US',\n",
       " 'NORTHGLENN, CO US',\n",
       " 'RALSTON RESERVOIR, CO US',\n",
       " 'SUGARLOAF COLORADO, CO US'}"
      ]
     },
     "execution_count": 6,
     "metadata": {},
     "output_type": "execute_result"
    }
   ],
   "source": [
    "set(weather.NAME)"
   ]
  },
  {
   "cell_type": "code",
   "execution_count": 12,
   "metadata": {},
   "outputs": [
    {
     "data": {
      "text/plain": [
       "7"
      ]
     },
     "execution_count": 12,
     "metadata": {},
     "output_type": "execute_result"
    }
   ],
   "source": [
    "weather.NAME.nunique()"
   ]
  },
  {
   "cell_type": "code",
   "execution_count": 14,
   "metadata": {},
   "outputs": [
    {
     "data": {
      "text/plain": [
       "7"
      ]
     },
     "execution_count": 14,
     "metadata": {},
     "output_type": "execute_result"
    }
   ],
   "source": [
    "len(set(weather.NAME))"
   ]
  },
  {
   "cell_type": "code",
   "execution_count": 8,
   "metadata": {},
   "outputs": [
    {
     "data": {
      "text/plain": [
       "array(['BOULDER 14 W, CO US', 'GROSS RESERVOIR, CO US',\n",
       "       'SUGARLOAF COLORADO, CO US', 'NIWOT, CO US', 'BOULDER, CO US',\n",
       "       'RALSTON RESERVOIR, CO US', 'NORTHGLENN, CO US'], dtype=object)"
      ]
     },
     "execution_count": 8,
     "metadata": {},
     "output_type": "execute_result"
    }
   ],
   "source": [
    "weather.NAME.unique()"
   ]
  },
  {
   "cell_type": "code",
   "execution_count": 9,
   "metadata": {},
   "outputs": [
    {
     "data": {
      "text/plain": [
       "SUGARLOAF COLORADO, CO US    31\n",
       "NIWOT, CO US                 31\n",
       "GROSS RESERVOIR, CO US       31\n",
       "BOULDER 14 W, CO US          31\n",
       "NORTHGLENN, CO US            30\n",
       "RALSTON RESERVOIR, CO US     30\n",
       "BOULDER, CO US               30\n",
       "Name: NAME, dtype: int64"
      ]
     },
     "execution_count": 9,
     "metadata": {},
     "output_type": "execute_result"
    }
   ],
   "source": [
    "weather.NAME.value_counts()"
   ]
  },
  {
   "cell_type": "markdown",
   "metadata": {},
   "source": [
    "### `pandas.DataFrame.loc()` function\n",
    "\n",
    "Pandas `.loc()` function allows to access groups of rows and/or columns in a dataframe. This is a handy function for selecting subset(s) from a bigger datasets (think an SQL SELECT statement with a WHERE clause). More details can be viewed [HERE](https://medium.com/dunder-data/selecting-subsets-of-data-in-pandas-6fcd0170be9c). We shall use this function below to select data. Use this function with syntax given below \n",
    "> DataFrame.loc[CONDITION]\n",
    "\n",
    "Using .loc() can help data scientists to avoid writing complex nested foor loops for iterating through a collection of information. It allows you to specify rows/columns with and required transformation gets applied applied to every element in the selection. We use this for a few exercises below. \n",
    "\n",
    "As we can see above that we have 7 unique weather stations in our dataset. Let's Extract the rows of the DataFrame concerned with the \"RALSTON RESERVOIR\" weather station. Store this data in a new DataFrame called `Ralston` and view first 5 rows of the data. "
   ]
  },
  {
   "cell_type": "code",
   "execution_count": 18,
   "metadata": {
    "scrolled": true
   },
   "outputs": [
    {
     "data": {
      "text/html": [
       "<div>\n",
       "<style scoped>\n",
       "    .dataframe tbody tr th:only-of-type {\n",
       "        vertical-align: middle;\n",
       "    }\n",
       "\n",
       "    .dataframe tbody tr th {\n",
       "        vertical-align: top;\n",
       "    }\n",
       "\n",
       "    .dataframe thead th {\n",
       "        text-align: right;\n",
       "    }\n",
       "</style>\n",
       "<table border=\"1\" class=\"dataframe\">\n",
       "  <thead>\n",
       "    <tr style=\"text-align: right;\">\n",
       "      <th></th>\n",
       "      <th>STATION</th>\n",
       "      <th>NAME</th>\n",
       "      <th>DATE</th>\n",
       "      <th>PRCP</th>\n",
       "      <th>TMAX</th>\n",
       "      <th>TMIN</th>\n",
       "    </tr>\n",
       "  </thead>\n",
       "  <tbody>\n",
       "    <tr>\n",
       "      <th>154</th>\n",
       "      <td>USC00056816</td>\n",
       "      <td>RALSTON RESERVOIR, CO US</td>\n",
       "      <td>2017-07-02</td>\n",
       "      <td>0.0</td>\n",
       "      <td>84.0</td>\n",
       "      <td>61.0</td>\n",
       "    </tr>\n",
       "    <tr>\n",
       "      <th>155</th>\n",
       "      <td>USC00056816</td>\n",
       "      <td>RALSTON RESERVOIR, CO US</td>\n",
       "      <td>2017-07-03</td>\n",
       "      <td>0.0</td>\n",
       "      <td>87.0</td>\n",
       "      <td>58.0</td>\n",
       "    </tr>\n",
       "    <tr>\n",
       "      <th>156</th>\n",
       "      <td>USC00056816</td>\n",
       "      <td>RALSTON RESERVOIR, CO US</td>\n",
       "      <td>2017-07-04</td>\n",
       "      <td>0.0</td>\n",
       "      <td>87.0</td>\n",
       "      <td>59.0</td>\n",
       "    </tr>\n",
       "    <tr>\n",
       "      <th>157</th>\n",
       "      <td>USC00056816</td>\n",
       "      <td>RALSTON RESERVOIR, CO US</td>\n",
       "      <td>2017-07-05</td>\n",
       "      <td>0.0</td>\n",
       "      <td>91.0</td>\n",
       "      <td>61.0</td>\n",
       "    </tr>\n",
       "    <tr>\n",
       "      <th>158</th>\n",
       "      <td>USC00056816</td>\n",
       "      <td>RALSTON RESERVOIR, CO US</td>\n",
       "      <td>2017-07-06</td>\n",
       "      <td>0.0</td>\n",
       "      <td>94.0</td>\n",
       "      <td>62.0</td>\n",
       "    </tr>\n",
       "  </tbody>\n",
       "</table>\n",
       "</div>"
      ],
      "text/plain": [
       "         STATION                      NAME        DATE  PRCP  TMAX  TMIN\n",
       "154  USC00056816  RALSTON RESERVOIR, CO US  2017-07-02   0.0  84.0  61.0\n",
       "155  USC00056816  RALSTON RESERVOIR, CO US  2017-07-03   0.0  87.0  58.0\n",
       "156  USC00056816  RALSTON RESERVOIR, CO US  2017-07-04   0.0  87.0  59.0\n",
       "157  USC00056816  RALSTON RESERVOIR, CO US  2017-07-05   0.0  91.0  61.0\n",
       "158  USC00056816  RALSTON RESERVOIR, CO US  2017-07-06   0.0  94.0  62.0"
      ]
     },
     "execution_count": 18,
     "metadata": {},
     "output_type": "execute_result"
    }
   ],
   "source": [
    "weather[weather.NAME == \"RALSTON RESERVOIR, CO US\"].head()"
   ]
  },
  {
   "cell_type": "code",
   "execution_count": 20,
   "metadata": {
    "scrolled": true
   },
   "outputs": [
    {
     "data": {
      "text/html": [
       "<div>\n",
       "<style scoped>\n",
       "    .dataframe tbody tr th:only-of-type {\n",
       "        vertical-align: middle;\n",
       "    }\n",
       "\n",
       "    .dataframe tbody tr th {\n",
       "        vertical-align: top;\n",
       "    }\n",
       "\n",
       "    .dataframe thead th {\n",
       "        text-align: right;\n",
       "    }\n",
       "</style>\n",
       "<table border=\"1\" class=\"dataframe\">\n",
       "  <thead>\n",
       "    <tr style=\"text-align: right;\">\n",
       "      <th></th>\n",
       "      <th>STATION</th>\n",
       "      <th>NAME</th>\n",
       "      <th>DATE</th>\n",
       "      <th>PRCP</th>\n",
       "      <th>TMAX</th>\n",
       "      <th>TMIN</th>\n",
       "    </tr>\n",
       "  </thead>\n",
       "  <tbody>\n",
       "    <tr>\n",
       "      <th>154</th>\n",
       "      <td>USC00056816</td>\n",
       "      <td>RALSTON RESERVOIR, CO US</td>\n",
       "      <td>2017-07-02</td>\n",
       "      <td>0.0</td>\n",
       "      <td>84.0</td>\n",
       "      <td>61.0</td>\n",
       "    </tr>\n",
       "    <tr>\n",
       "      <th>155</th>\n",
       "      <td>USC00056816</td>\n",
       "      <td>RALSTON RESERVOIR, CO US</td>\n",
       "      <td>2017-07-03</td>\n",
       "      <td>0.0</td>\n",
       "      <td>87.0</td>\n",
       "      <td>58.0</td>\n",
       "    </tr>\n",
       "    <tr>\n",
       "      <th>156</th>\n",
       "      <td>USC00056816</td>\n",
       "      <td>RALSTON RESERVOIR, CO US</td>\n",
       "      <td>2017-07-04</td>\n",
       "      <td>0.0</td>\n",
       "      <td>87.0</td>\n",
       "      <td>59.0</td>\n",
       "    </tr>\n",
       "    <tr>\n",
       "      <th>157</th>\n",
       "      <td>USC00056816</td>\n",
       "      <td>RALSTON RESERVOIR, CO US</td>\n",
       "      <td>2017-07-05</td>\n",
       "      <td>0.0</td>\n",
       "      <td>91.0</td>\n",
       "      <td>61.0</td>\n",
       "    </tr>\n",
       "    <tr>\n",
       "      <th>158</th>\n",
       "      <td>USC00056816</td>\n",
       "      <td>RALSTON RESERVOIR, CO US</td>\n",
       "      <td>2017-07-06</td>\n",
       "      <td>0.0</td>\n",
       "      <td>94.0</td>\n",
       "      <td>62.0</td>\n",
       "    </tr>\n",
       "  </tbody>\n",
       "</table>\n",
       "</div>"
      ],
      "text/plain": [
       "         STATION                      NAME        DATE  PRCP  TMAX  TMIN\n",
       "154  USC00056816  RALSTON RESERVOIR, CO US  2017-07-02   0.0  84.0  61.0\n",
       "155  USC00056816  RALSTON RESERVOIR, CO US  2017-07-03   0.0  87.0  58.0\n",
       "156  USC00056816  RALSTON RESERVOIR, CO US  2017-07-04   0.0  87.0  59.0\n",
       "157  USC00056816  RALSTON RESERVOIR, CO US  2017-07-05   0.0  91.0  61.0\n",
       "158  USC00056816  RALSTON RESERVOIR, CO US  2017-07-06   0.0  94.0  62.0"
      ]
     },
     "execution_count": 20,
     "metadata": {},
     "output_type": "execute_result"
    }
   ],
   "source": [
    "weather.loc[weather.NAME == \"RALSTON RESERVOIR, CO US\"].head()"
   ]
  },
  {
   "cell_type": "code",
   "execution_count": 21,
   "metadata": {},
   "outputs": [
    {
     "data": {
      "text/plain": [
       "STATION     USS0005J42S\n",
       "NAME       NIWOT, CO US\n",
       "DATE         2017-07-08\n",
       "PRCP                  0\n",
       "TMAX                 67\n",
       "TMIN                 43\n",
       "Name: 100, dtype: object"
      ]
     },
     "execution_count": 21,
     "metadata": {},
     "output_type": "execute_result"
    }
   ],
   "source": [
    "weather.iloc[100]"
   ]
  },
  {
   "cell_type": "code",
   "execution_count": null,
   "metadata": {},
   "outputs": [],
   "source": []
  },
  {
   "cell_type": "markdown",
   "metadata": {},
   "source": [
    "### `pd.mean()`\n",
    "\n",
    "Pandas has a built in functions to compute the mean of a dataset or a series -  `pd.mean( )`. All of these functions can be called either on a single Pandas Series (i.e. a column of a DataFrame) or on an entire DataFrame at one time.\n",
    "\n",
    "Let's apply the `pd.mean()` function on the Ralston dataframe. "
   ]
  },
  {
   "cell_type": "code",
   "execution_count": 22,
   "metadata": {
    "scrolled": false
   },
   "outputs": [
    {
     "data": {
      "text/plain": [
       "PRCP     0.043462\n",
       "TMAX    81.476636\n",
       "TMIN    53.588785\n",
       "dtype: float64"
      ]
     },
     "execution_count": 22,
     "metadata": {},
     "output_type": "execute_result"
    }
   ],
   "source": [
    "weather.mean()"
   ]
  },
  {
   "cell_type": "code",
   "execution_count": 23,
   "metadata": {
    "scrolled": true
   },
   "outputs": [
    {
     "data": {
      "text/plain": [
       "PRCP     0.042000\n",
       "TMAX    86.533333\n",
       "TMIN    61.166667\n",
       "dtype: float64"
      ]
     },
     "execution_count": 23,
     "metadata": {},
     "output_type": "execute_result"
    }
   ],
   "source": [
    "weather[weather.NAME == \"RALSTON RESERVOIR, CO US\"].mean()"
   ]
  },
  {
   "cell_type": "code",
   "execution_count": 30,
   "metadata": {},
   "outputs": [],
   "source": [
    "import matplotlib.pyplot as plt"
   ]
  },
  {
   "cell_type": "code",
   "execution_count": 27,
   "metadata": {},
   "outputs": [],
   "source": [
    "%matplotlib inline"
   ]
  },
  {
   "cell_type": "code",
   "execution_count": 35,
   "metadata": {},
   "outputs": [
    {
     "data": {
      "text/plain": [
       "Text(0.5,0,'Temperature in Degrees Farenheit')"
      ]
     },
     "execution_count": 35,
     "metadata": {},
     "output_type": "execute_result"
    },
    {
     "data": {
      "image/png": "[encoded data removed]",
      "text/plain": [
       "<Figure size 432x288 with 1 Axes>"
      ]
     },
     "metadata": {},
     "output_type": "display_data"
    }
   ],
   "source": [
    "weather.groupby('NAME').mean().plot(kind= 'barh')\n",
    "plt.legend(fontsize = 14, bbox_to_anchor=(1,1))\n",
    "plt.title('Average Min and Max Temperatures for Various Colorodo Weather Stations', fontsize = 18)\n",
    "plt.xlabel('Temperature in Degrees Farenheit')"
   ]
  },
  {
   "cell_type": "markdown",
   "metadata": {},
   "source": [
    "Calculate the sample mean of the \"maximum daily temperature\" ONLY at Ralston weather station. "
   ]
  },
  {
   "cell_type": "code",
   "execution_count": null,
   "metadata": {},
   "outputs": [],
   "source": []
  },
  {
   "cell_type": "markdown",
   "metadata": {},
   "source": [
    "We can see that applying the `pd.mean()` function on complete dataset calculates the mean for every column found in the set. We can however, selectively identify column(s) as we saw above for mean calculation. "
   ]
  },
  {
   "cell_type": "markdown",
   "metadata": {},
   "source": [
    "### Other functions for summary statistics\n",
    "\n",
    "Following is the list of functions that we can use to calculate other summary statistics.\n",
    "\n",
    "![](math.svg)"
   ]
  },
  {
   "cell_type": "markdown",
   "metadata": {},
   "source": [
    "Use above functions with Ralston dataframe and print 5-point summary statistics, along with mean and standard deviation.\n",
    "\n",
    "Round off and print the results in a nice manner"
   ]
  },
  {
   "cell_type": "code",
   "execution_count": 1,
   "metadata": {},
   "outputs": [],
   "source": [
    "# Expected output\n",
    "\n",
    "# Mean: 86.53\n",
    "# Standard deviation: 5.89\n",
    "\n",
    "#                   MIN      Q1       MEDIAN    Q2       MAX\n",
    "# 5-Number Summary: 71.00    84.00    87.00    91.00    96.00"
   ]
  },
  {
   "cell_type": "markdown",
   "metadata": {},
   "source": [
    "### `pandas.DataFrame.describe()` for Summary Statistics "
   ]
  },
  {
   "cell_type": "markdown",
   "metadata": {},
   "source": [
    "What we see above could be a time consuming activity for a data scientist who may be interested in calculating such statistics frequently. Luckily, Pandas has a built-in function for this, called `.describe`. Let's apply this function to the Ralston dataset and see what it gives us."
   ]
  },
  {
   "cell_type": "code",
   "execution_count": null,
   "metadata": {},
   "outputs": [],
   "source": []
  },
  {
   "cell_type": "markdown",
   "metadata": {},
   "source": [
    "And this is why we all love Pandas :)\n",
    "\n",
    "![](panda.jpg)"
   ]
  },
  {
   "cell_type": "markdown",
   "metadata": {},
   "source": [
    "## Data Transformations"
   ]
  },
  {
   "cell_type": "markdown",
   "metadata": {},
   "source": [
    "Everytime we apply some transformation on a given dataset, the mean and variance of the data changes. We can watch this effect by applying some basic transformations to the subset we created above and try to learn how these impact the statistics. "
   ]
  },
  {
   "cell_type": "markdown",
   "metadata": {},
   "source": [
    "Lets run a loop and try to iteratively add some value (say 5), to  the column `TMAX` for 10 iterations and calculate mean and standard deviation for each iteration. Print the results for every iteration. "
   ]
  },
  {
   "cell_type": "code",
   "execution_count": null,
   "metadata": {},
   "outputs": [],
   "source": []
  },
  {
   "cell_type": "markdown",
   "metadata": {},
   "source": [
    "Lets run another loop and multiply some value (2), to the column TMAX for 10 iterations and calculate mean and standard deviation for each iteration, just like above. Print the results for every iteration."
   ]
  },
  {
   "cell_type": "code",
   "execution_count": null,
   "metadata": {},
   "outputs": [],
   "source": []
  },
  {
   "cell_type": "markdown",
   "metadata": {},
   "source": [
    "> **Question** Describe the observed effect of multiplication and addition on mean and standard deviation. "
   ]
  },
  {
   "cell_type": "markdown",
   "metadata": {},
   "source": [
    "#### Mean with Addition ?\n",
    "#### Standard deviation with Addition ?\n",
    "#### Mean with Multiplcation ?\n",
    "#### Standard Deviation with Multiplication ?"
   ]
  },
  {
   "cell_type": "markdown",
   "metadata": {},
   "source": [
    "### Apply same transformation to different datasets"
   ]
  },
  {
   "cell_type": "markdown",
   "metadata": {},
   "source": [
    "We Can can also try to apply similar transformation to different sets of data and observe the effect on mean and standard deviation. \n",
    "\n",
    "Let's convert the temperature values in TMAX and TMIN columns of Ralston dataframe from Farenhiet to Celcius using the formua: **C = 5/9(F - 32)**. Save the results in new columns of the dataframe. \n",
    "\n",
    "Hint: You can use the `.loc()` function to select and the required columns to read and write values. "
   ]
  },
  {
   "cell_type": "code",
   "execution_count": null,
   "metadata": {},
   "outputs": [],
   "source": []
  },
  {
   "cell_type": "code",
   "execution_count": 2,
   "metadata": {},
   "outputs": [],
   "source": [
    "# Check the head"
   ]
  },
  {
   "cell_type": "markdown",
   "metadata": {},
   "source": [
    "Check for the change in standard deviation and mean going from Farenheit to centigrade and comment."
   ]
  },
  {
   "cell_type": "code",
   "execution_count": null,
   "metadata": {},
   "outputs": [],
   "source": []
  },
  {
   "cell_type": "code",
   "execution_count": null,
   "metadata": {},
   "outputs": [],
   "source": []
  },
  {
   "cell_type": "code",
   "execution_count": null,
   "metadata": {},
   "outputs": [],
   "source": []
  },
  {
   "cell_type": "code",
   "execution_count": null,
   "metadata": {},
   "outputs": [],
   "source": []
  },
  {
   "cell_type": "markdown",
   "metadata": {},
   "source": [
    "#### Comment on Observations"
   ]
  },
  {
   "cell_type": "markdown",
   "metadata": {},
   "source": [
    "### Transformed features"
   ]
  },
  {
   "cell_type": "markdown",
   "metadata": {},
   "source": [
    "Finally, lets do another quick experiment. Based on Ralston dataframe, calculate the delta for temperature values for TMAX and TMIN and store results in a newcolumn called T_DELTA.\n",
    "\n",
    "Hint: Use `loc()` as seen in previous examples."
   ]
  },
  {
   "cell_type": "code",
   "execution_count": null,
   "metadata": {},
   "outputs": [],
   "source": []
  },
  {
   "cell_type": "markdown",
   "metadata": {},
   "source": [
    "Answer following questions for above:\n",
    "\n",
    "* Q1: Calculate the mean temperature difference in the month of July.\n",
    "* Q2: Calculate difference of means between TMAX and TMIN daily temperature.\n",
    "* Q3: Identify the relation between two values calculated above. "
   ]
  },
  {
   "cell_type": "code",
   "execution_count": 3,
   "metadata": {},
   "outputs": [],
   "source": [
    "#Q1\n"
   ]
  },
  {
   "cell_type": "code",
   "execution_count": 4,
   "metadata": {
    "scrolled": true
   },
   "outputs": [],
   "source": [
    "# Q2\n"
   ]
  },
  {
   "cell_type": "markdown",
   "metadata": {},
   "source": [
    "#### Observations : "
   ]
  },
  {
   "cell_type": "markdown",
   "metadata": {},
   "source": [
    "## Graphical Summaries\n",
    "\n",
    "Histograms / Box and Whiskers plots are the most common ways to highlight the centr and spread of the data. We shall learn how to draw these using `matplotlib` library to describe the data in a graphical manner, along side summary statistics we saw earlier. \n",
    "\n",
    "### Histograms with `matplotlib.hist()`\n",
    "\n",
    "Matplotlib library in python has a `.hist()` function, which comes in handy as it doesnt require you to do any data cleaning for initial observations and deals with null values automatically. Also , this function is integrated into Pandas as well, which means we can applhy this directly to pandas series and Dataframes. \n",
    "\n",
    "let's apply the hist() function to complete weather dataset. "
   ]
  },
  {
   "cell_type": "code",
   "execution_count": null,
   "metadata": {},
   "outputs": [],
   "source": []
  },
  {
   "cell_type": "markdown",
   "metadata": {},
   "source": [
    "We can also apply this selectively to a given row or column of a dataframe"
   ]
  },
  {
   "cell_type": "code",
   "execution_count": null,
   "metadata": {},
   "outputs": [],
   "source": []
  },
  {
   "cell_type": "markdown",
   "metadata": {},
   "source": [
    "We can modify a lot of parameters of this histogram including bin size , axes, labels, rotation of columns etc. A detailed descriptions of these parameters can be viewed at [THIS LOCATION](https://pandas.pydata.org/pandas-docs/stable/generated/pandas.DataFrame.hist.html)"
   ]
  },
  {
   "cell_type": "markdown",
   "metadata": {},
   "source": [
    "### Box and Whiskers Plots with `.boxplot()`\n",
    "\n",
    "Pandas also comes packaged with a `.boxplot()` function to draw the box and whiskers plots for a given dataset or a selected series. Let's try to run it with TMAX in the complete dataset. "
   ]
  },
  {
   "cell_type": "code",
   "execution_count": null,
   "metadata": {},
   "outputs": [],
   "source": []
  },
  {
   "cell_type": "markdown",
   "metadata": {},
   "source": [
    "Now let's see the box and whiskers plot for all TMIN values collected from Ralston weather station. \n"
   ]
  },
  {
   "cell_type": "code",
   "execution_count": null,
   "metadata": {},
   "outputs": [],
   "source": []
  },
  {
   "cell_type": "code",
   "execution_count": null,
   "metadata": {},
   "outputs": [],
   "source": []
  },
  {
   "cell_type": "markdown",
   "metadata": {},
   "source": [
    "Boxplots and histograms can be 'prettified' to a very detailed level using the arguments. \n",
    "\n",
    "![](boxp.png)"
   ]
  },
  {
   "cell_type": "markdown",
   "metadata": {},
   "source": [
    "## Inferential statistics "
   ]
  },
  {
   "cell_type": "markdown",
   "metadata": {},
   "source": [
    "Inferential statistics is one of the two main branches of statistics.\n",
    "\n",
    "Inferential statistics use a random sample of data taken from a population to describe and make inferences about the population. Inferential statistics are valuable when examination of each member of an entire population is not convenient or possible. For example, to measure the diameter of each nail that is manufactured in a mill is impractical. You can measure the diameters of a representative random sample of nails. You can use the information from the sample to make generalizations about the diameters of all of the nails.\n",
    "\n",
    "### Sampling with `DataFrame.sample()`\n",
    "\n",
    "Pandas has a built in function for taking samples from a given population of data. we can use `.sample()` to define the fraction of sample (0 - 1) and sepficy whether we we want to sample WITH or WITHOUT replacement by setting replace argument to true or false.\n",
    "\n",
    "Take a 10 % sample of TMAX column from the complete dataset and calculate mean\n"
   ]
  },
  {
   "cell_type": "code",
   "execution_count": null,
   "metadata": {},
   "outputs": [],
   "source": []
  },
  {
   "cell_type": "markdown",
   "metadata": {},
   "source": [
    "Run a loop with iterative increase in sample size and identify the difference from sample and population for each iteration."
   ]
  },
  {
   "cell_type": "code",
   "execution_count": null,
   "metadata": {},
   "outputs": [],
   "source": []
  },
  {
   "cell_type": "markdown",
   "metadata": {},
   "source": [
    "As we can see, while taking samples, even with an increasing size, there is a difference between sample mean and population mean. In our dataset, this could be mainly due to some outliers getting randomly picked up in sample. This idea is known as **SAMPLING ERROR**. Due to noise in the data, there is always a difference between sample and population means and this could be problematic for our inference. \n",
    "\n",
    "This is where **Hypothesis Testing** comes into equation which allows us to test certain statistics for sample and infer about population with some level of confidence."
   ]
  },
  {
   "cell_type": "markdown",
   "metadata": {},
   "source": [
    "#### Bonus Exercise 1: \n",
    "\n",
    "Observe the effect on mean while taking samples with and without replacement. \n",
    "\n",
    "#### Bonus Exercise 2:\n",
    "\n",
    "Itratively increase the size of a sample and observe the effect on the inference. "
   ]
  },
  {
   "cell_type": "markdown",
   "metadata": {},
   "source": [
    "### Summary: \n",
    "    \n",
    "In this lab, we presented an introduction to descriptive statitics, using five point statistical summaries and descriptive visualisation techniques. We also introduced ourselves with the idea of statistical inference. Following labs will further explore some of these ideas and introduce some new ideas towards distributions and statistics.  "
   ]
  },
  {
   "cell_type": "code",
   "execution_count": null,
   "metadata": {},
   "outputs": [],
   "source": []
  }
 ],
 "metadata": {
  "kernelspec": {
   "display_name": "Python 3",
   "language": "python",
   "name": "python3"
  },
  "language_info": {
   "codemirror_mode": {
    "name": "ipython",
    "version": 3
   },
   "file_extension": ".py",
   "mimetype": "text/x-python",
   "name": "python",
   "nbconvert_exporter": "python",
   "pygments_lexer": "ipython3",
   "version": "3.6.5"
  }
 },
 "nbformat": 4,
 "nbformat_minor": 2
}
